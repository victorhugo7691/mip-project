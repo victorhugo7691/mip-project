{
 "cells": [
  {
   "cell_type": "markdown",
   "metadata": {},
   "source": [
    "# Mip Procure Formulation\n",
    "The problem we formulate in this document has the following characteristics:\n",
    "- There are multiple SKUs being ordered from a supplier and shipped to a warehouse;\n",
    "- Inventory of each SKU can be held from one period to the next (there may be inventory at the start of the planning horizon, also known as openning inventory);\n",
    "- SKUs can be stored both at supplier location or at the warehouse;\n",
    "- Per-unit inventory cost is charged for each type of SKU;\n",
    "- There is a minimum quantity (buffer against uncertainty) to be kept in the inventory of each SKU at the warehouse in every period that has demand;\n",
    "- There is a total inventory capacity at both the warehouse and the supplier;\n",
    "- Demand for each SKU is known and must be met every period from the warehouse;\n",
    "- Purchase cost of each SKU is per unit;\n",
    "- There is a minimum order quantity (MOQ), i.e., if a given SKU is purchased in a given period, then at least, let's say, 100 units must be purchased. Similarly, there's a maximum order quantity;\n",
    "- There is a minimum shipment quantity for each SKU, i.e., if a given SKU is shipped from the supplier to the warehouse in a given period, then at least, let's say, 100 units of this SKU must be shipped;\n",
    "- There is an expedition capacity from the supplier, over the number of bags to be shipped per period of all SKUs.\n",
    "- There is a receiving capacity at the warehouse, set over the number of different **types** of SKUs received (not on their transferred quantities themselves!).\n",
    "- There is a maximum number of time periods during which an item can be held in inventory at the supplier (inventory aging)."
   ]
  },
  {
   "cell_type": "markdown",
   "metadata": {},
   "source": [
    "### Input Data Model\n"
   ]
  },
  {
   "cell_type": "markdown",
   "metadata": {},
   "source": [
    "#### Modeling Assumptions\n",
    "1. Inventory levels (both at supplier and warehouse) are assessed at the **end** of time periods.\n",
    "2. Shipments and purchases are made **throughout** a time period.\n",
    "3. Deliveries from supplier to warehouse take less than 1 period of time, so we can assume that whatever is purchased in a Period $t$ will get to the warehouse in the same period (as there were no lead time)."
   ]
  },
  {
   "cell_type": "markdown",
   "metadata": {},
   "source": [
    "#### Indices\n",
    "- $I$: Collection of items.\n",
    "- $T$: Collection of time periods."
   ]
  },
  {
   "cell_type": "markdown",
   "metadata": {},
   "source": [
    "#### Parameters\n",
    "- $t_0$: The first time period, that is, $t_0=\\min T$.\n",
    "- $ois_i$: Opening inventory (units) of SKU $i$ at the supplier.\n",
    "- $oi_i$: Opening inventory (units) of SKU $i$ at the warehouse.\n",
    "- $cis_i$: Cost (dollar/unit) to keep SKU $i$ in inventory from one period to the next at the supplier.\n",
    "- $ci_i$: Cost (dollar/unit) to keep SKU $i$ in inventory from one period to the next at the warehouse.\n",
    "- $il_{it}$: Minimum quantity of SKU $i$ that should be in inventory in Period $t$ at the warehouse.\n",
    "- $iu_t$: Inventory upper bound (capacity), i.e., maximum total quantity of SKUs that can be kept in inventory in Period $t$ at the warehouse.\n",
    "- $ius_t$: Inventory upper bound (capacity), i.e., maximum total quantity of SKUs that can be kept in inventory in Period $t$ at the supplier.\n",
    "- $d_{it}$: Demand (units) of SKU $i$ in Period $t$.\n",
    "- $cp_i$: Cost (dollar/unit) to purchase SKU $i$.\n",
    "- $moq_i$: Minimum order quantity of SKU $i$.\n",
    "- $maxoq_i$: Maximum order quantity of SKU $i$.\n",
    "- $mtq_i$: Minimum transfer quantity of SKU $i$ from the supplier to the warehouse.\n",
    "- $tu$: Maximum time that an item can be held in inventory at the supplier. \n",
    "- $ec$: Expedition capacity at the supplier per period, i.e., a cap on the total amount of **units** that can be shipped from supplier to warehouse across all SKUs.\n",
    "- $rc$: Receiving capacity at the warehouse per period, i.e., a cap over the number of different **types** of SKUs received by the warehouse, not their quantities."
   ]
  },
  {
   "cell_type": "markdown",
   "metadata": {},
   "source": [
    "### Decision Variables\n",
    "- $x_{it}$:\tQuantity (units) of SKU $i$ to be purchased in Period $t$.\n",
    "- $y_{it}$:\tQuantity (units) of SKU $i$ kept in inventory from Period $t$ to $t+1$ in the Warehouse.\n",
    "- $ys_{it}$: Quantity (units) of SKU $i$ kept in inventory from Period $t$ to $t+1$ in the Supplier.\n",
    "- $z_{it}$: Equals $1$ if SKU $i$ is purchased in Period $t$; $0$ otherwise.\n",
    "- $w_{it}$:\tQuantity (units) of SKU $i$ transferred from the supplier to the warehouse in Period $t$.\n",
    "- $zs_{it}$: Equals $1$ if any quantity (units) of SKU $i$ is transferred from the supplier to the warehouse in Period $t$; $0$ otherwise.\n"
   ]
  },
  {
   "cell_type": "markdown",
   "metadata": {},
   "source": [
    "### Constraints\n",
    "* C0) Initial inventories:  \n",
    "    a) Openning Inventory at the Supplier:\n",
    "        $$ ys_{i,t_0-1} = ois_i, \\quad \\forall i $$\n",
    "    \n",
    "    b) Openning Inventory at the Warehouse:\n",
    "        $$ y_{i,t_0-1} = oi_i, \\quad \\forall i $$\n",
    "\n",
    "* C1) Flow balance at the supplier:\n",
    "    $$ys_{it-1} + x_{it} = w_{it} + ys_{it}, \\quad \\forall i, t.$$\n",
    "    The quantity in the supplier inventory from the previous period plus the order of the current period equals the transfer to the warehouse (that departs at the current period) plus the quantity left in inventory for the next period.\n",
    "    \n",
    "* C2) Flow balance at the warehouse:\n",
    "    $$y_{it-1} + w_{it} = d_{it} + y_{it}, \\quad \\forall i, t.$$\n",
    "    The quantity in inventory from previous period plus the transfer of the current period equals the demand plus the quantity left in inventory for the next period.  \n",
    "    Note that this constraint also ensure that demand for SKU $i$ is met in every period. \n",
    "\n",
    "* C3) Minimum and maximum order quantities:\n",
    "    $$ moq_i \\cdot z_{it} \\leq x_{it} \\leq maxoq_i \\cdot z_{it}, \\quad \\forall i, t$$\n",
    "\n",
    "    The quantity purchased of SKU $i$ in Period $t$ (i.e. $x_{it}$) is $0$ if it's not bought at all (i.e. if $z_{it}=0$), otherwise it must fall into the minimum and maximum order quantities (i.e. $moq_i \\leq x_{it} \\leq maxoq_i$).\n",
    "\n",
    "* C4) Minimum inventory quantity at the warehouse:\n",
    "    $$il_{it} \\leq y_{it}, \\quad \\forall i, t.$$\n",
    "    \n",
    "* C5) Inventory capacity:\n",
    "    $$\\sum_i y_{it} \\leq iu_t, \\quad \\forall t.$$\n",
    "    $$\\sum_i ys_{it} \\leq ius_t, \\quad \\forall t.$$\n",
    "    \n",
    "* C6) Minimum transfer size:\n",
    "    $$mtq_i \\cdot zs_{it} \\leq w_{it} \\leq ec \\cdot zs_{it}, \\quad \\forall i, t.$$\n",
    "    If there is transfer of SKU $i$ in Period $t$ from the supplier to the warehouse, then at least $mtq_i$ units must be transferred, and at most $ec$ since this is the expedition capacity of the supplier (over all SKUs).\n",
    "\n",
    "* C7) Expedition capacity:\n",
    "    $$ \\sum_i w_{it} \\leq ec, \\quad \\forall t. $$\n",
    "    The total number of units transferred from the supplier to the warehouse (over all SKUs) in each period cannot exceed the supplier's expedition capacity.\n",
    "\n",
    "* C8) Receiving capacity:\n",
    "    $$ \\sum_i zs_{it} \\leq rc, \\quad \\forall t. $$\n",
    "    The total number of different SKUs (not their quantities!) transferred from the supplier to the warehouse in each period cannot exceed the warehouse's receiving capacity.\n",
    "\n",
    "* C9) Maximum inventory aging:\n",
    "    $$ys_{it} \\leq \\sum_{t+1\\leq t'\\leq t+tu}w_{it'}, \\quad \\forall i, \\; t_0-1 \\leq t\\leq \\max T - tu.$$"
   ]
  },
  {
   "cell_type": "markdown",
   "metadata": {},
   "source": [
    "### Objective\n",
    "The goal is to minimize the total purchase and inventory cost:\n",
    "\n",
    "$\\text{inventory}_{\\text{cost}_{\\text{s}}} = \\sum_{it} cis_i \\cdot ys_{it}$,  \n",
    "$\\text{inventory}_{\\text{cost}} = \\sum_{it} ci_i \\cdot y_{it}$,  \n",
    "$\\text{purchase}_{\\text{cost}} = \\sum_{it} cp_i \\cdot x_{it}$.\n",
    "\n",
    "$$\\min{ \\qquad \\text{inventory}_{\\text{cost}_{\\text{s}}} + \\text{inventory}_{\\text{cost}} + \\text{purchase}_{\\text{cost}}}.$$"
   ]
  }
 ],
 "metadata": {
  "kernelspec": {
   "display_name": "Python 3 (ipykernel)",
   "language": "python",
   "name": "python3"
  },
  "language_info": {
   "codemirror_mode": {
    "name": "ipython",
    "version": 3
   },
   "file_extension": ".py",
   "mimetype": "text/x-python",
   "name": "python",
   "nbconvert_exporter": "python",
   "pygments_lexer": "ipython3",
   "version": "3.11.3"
  }
 },
 "nbformat": 4,
 "nbformat_minor": 4
}
